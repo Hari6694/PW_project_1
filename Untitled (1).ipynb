{
 "cells": [
  {
   "cell_type": "code",
   "execution_count": 1,
   "id": "bd50ef68-d592-4aa9-afb8-225450202763",
   "metadata": {},
   "outputs": [],
   "source": [
    "a=\"hari\""
   ]
  },
  {
   "cell_type": "code",
   "execution_count": 2,
   "id": "44daf31f-a6e5-4f35-ad10-7e657fe8c298",
   "metadata": {},
   "outputs": [],
   "source": [
    "b=[1,2,3,\"Harikant\",5.5,7]"
   ]
  },
  {
   "cell_type": "code",
   "execution_count": 3,
   "id": "7f3d13e7-62b1-40d0-bec8-99d44379945f",
   "metadata": {},
   "outputs": [],
   "source": [
    "c=5.65"
   ]
  },
  {
   "cell_type": "code",
   "execution_count": 4,
   "id": "a2982c59-6547-49c0-87ea-e970bb7779b2",
   "metadata": {},
   "outputs": [],
   "source": [
    "d=(2,5,7,\"kant\",7.87)"
   ]
  },
  {
   "cell_type": "code",
   "execution_count": 5,
   "id": "a1dd698e-723f-4ce6-929f-09eefc42c178",
   "metadata": {},
   "outputs": [],
   "source": [
    "var1 = ''"
   ]
  },
  {
   "cell_type": "code",
   "execution_count": 6,
   "id": "68ad8bb2-80c2-429b-85db-8c8cbc85015d",
   "metadata": {},
   "outputs": [
    {
     "data": {
      "text/plain": [
       "str"
      ]
     },
     "execution_count": 6,
     "metadata": {},
     "output_type": "execute_result"
    }
   ],
   "source": [
    "type(var1)"
   ]
  },
  {
   "cell_type": "code",
   "execution_count": 7,
   "id": "8f16e8f2-7f8a-4f71-bfe9-fdd8fffe3dd8",
   "metadata": {},
   "outputs": [],
   "source": [
    "var2 = '[ DS , ML , Python]'"
   ]
  },
  {
   "cell_type": "code",
   "execution_count": 8,
   "id": "88f89e9f-7ca1-4abd-86f0-5b00c0251027",
   "metadata": {},
   "outputs": [
    {
     "data": {
      "text/plain": [
       "str"
      ]
     },
     "execution_count": 8,
     "metadata": {},
     "output_type": "execute_result"
    }
   ],
   "source": [
    "type(var2)"
   ]
  },
  {
   "cell_type": "code",
   "execution_count": 9,
   "id": "aba907d9-d682-45b0-b86d-389024836af8",
   "metadata": {},
   "outputs": [],
   "source": [
    "var3 = ['DS','ML','Python']"
   ]
  },
  {
   "cell_type": "code",
   "execution_count": 10,
   "id": "d30a3804-031b-43b9-bf58-9962ef989efc",
   "metadata": {},
   "outputs": [
    {
     "data": {
      "text/plain": [
       "list"
      ]
     },
     "execution_count": 10,
     "metadata": {},
     "output_type": "execute_result"
    }
   ],
   "source": [
    "type(var3)"
   ]
  },
  {
   "cell_type": "code",
   "execution_count": 11,
   "id": "8fb0b99c-4490-4f11-9951-6dda93e11b40",
   "metadata": {},
   "outputs": [],
   "source": [
    "var4 = 1."
   ]
  },
  {
   "cell_type": "code",
   "execution_count": 12,
   "id": "e3ae4295-4ef5-4048-8501-612f7954e467",
   "metadata": {},
   "outputs": [
    {
     "data": {
      "text/plain": [
       "float"
      ]
     },
     "execution_count": 12,
     "metadata": {},
     "output_type": "execute_result"
    }
   ],
   "source": [
    "type(var4)"
   ]
  },
  {
   "cell_type": "code",
   "execution_count": 13,
   "id": "31365375-cc0c-4ff1-bf56-4f54ead6da08",
   "metadata": {},
   "outputs": [
    {
     "data": {
      "text/plain": [
       "0.4"
      ]
     },
     "execution_count": 13,
     "metadata": {},
     "output_type": "execute_result"
    }
   ],
   "source": [
    "a=2/5\n",
    "a"
   ]
  },
  {
   "cell_type": "code",
   "execution_count": 14,
   "id": "643ce456-85a0-4398-a30d-e2c9de5e5fdc",
   "metadata": {},
   "outputs": [
    {
     "data": {
      "text/plain": [
       "2"
      ]
     },
     "execution_count": 14,
     "metadata": {},
     "output_type": "execute_result"
    }
   ],
   "source": [
    "i=2%6\n",
    "i"
   ]
  },
  {
   "cell_type": "code",
   "execution_count": 15,
   "id": "965aaae5-9eae-4c96-8760-4d23447b43b7",
   "metadata": {},
   "outputs": [
    {
     "data": {
      "text/plain": [
       "2"
      ]
     },
     "execution_count": 15,
     "metadata": {},
     "output_type": "execute_result"
    }
   ],
   "source": [
    "j=7//3\n",
    "j"
   ]
  },
  {
   "cell_type": "code",
   "execution_count": 16,
   "id": "86652909-afc6-4faf-9c92-315a016afcea",
   "metadata": {},
   "outputs": [
    {
     "data": {
      "text/plain": [
       "8"
      ]
     },
     "execution_count": 16,
     "metadata": {},
     "output_type": "execute_result"
    }
   ],
   "source": [
    "k=2**3\n",
    "k"
   ]
  },
  {
   "cell_type": "code",
   "execution_count": 17,
   "id": "533272c5-3f8e-41c9-a9b8-e40287878f1d",
   "metadata": {},
   "outputs": [],
   "source": [
    "l=[1,2,43,5,7,\"hari\",7.4,9,\"kant\",77]"
   ]
  },
  {
   "cell_type": "code",
   "execution_count": 18,
   "id": "bc6e6bc2-9e0c-422f-8c16-3f8854577ff7",
   "metadata": {},
   "outputs": [
    {
     "name": "stdout",
     "output_type": "stream",
     "text": [
      "<class 'int'> 1\n",
      "<class 'int'> 2\n",
      "<class 'int'> 43\n",
      "<class 'int'> 5\n",
      "<class 'int'> 7\n",
      "<class 'str'> hari\n",
      "<class 'float'> 7.4\n",
      "<class 'int'> 9\n",
      "<class 'str'> kant\n",
      "<class 'int'> 77\n"
     ]
    }
   ],
   "source": [
    "for i in l:\n",
    "    print(type(i),i)"
   ]
  },
  {
   "cell_type": "code",
   "execution_count": 19,
   "id": "6f9bff69-758a-4adb-8b9e-9c605ea3bcd5",
   "metadata": {},
   "outputs": [
    {
     "name": "stdout",
     "output_type": "stream",
     "text": [
      "Purely divisible\n"
     ]
    }
   ],
   "source": [
    "a=10\n",
    "b=5\n",
    "while a>b:\n",
    "    if a%b==0:\n",
    "        print(\"Purely divisible\")\n",
    "    else:\n",
    "        print(\"Not divisible\")\n",
    "    break   "
   ]
  },
  {
   "cell_type": "code",
   "execution_count": 31,
   "id": "dc55ad34-75da-4186-a046-592280fe1347",
   "metadata": {},
   "outputs": [
    {
     "name": "stdout",
     "output_type": "stream",
     "text": [
      "Number 1  is not divisible by 3\n",
      "Number 2  is not divisible by 3\n",
      "Number 3 is Divisible by 3\n",
      "Number 4  is not divisible by 3\n",
      "Number 5  is not divisible by 3\n",
      "Number 6 is Divisible by 3\n",
      "Number 7  is not divisible by 3\n",
      "Number 8  is not divisible by 3\n",
      "Number 9 is Divisible by 3\n",
      "Number 10  is not divisible by 3\n",
      "Number 11  is not divisible by 3\n",
      "Number 12 is Divisible by 3\n",
      "Number 13  is not divisible by 3\n",
      "Number 14  is not divisible by 3\n",
      "Number 15 is Divisible by 3\n",
      "Number 16  is not divisible by 3\n",
      "Number 17  is not divisible by 3\n",
      "Number 18 is Divisible by 3\n",
      "Number 19  is not divisible by 3\n",
      "Number 20  is not divisible by 3\n",
      "Number 21 is Divisible by 3\n",
      "Number 22  is not divisible by 3\n",
      "Number 23  is not divisible by 3\n",
      "Number 24 is Divisible by 3\n",
      "Number 25  is not divisible by 3\n"
     ]
    }
   ],
   "source": [
    "l=[1,2,3,4,5,6,7,8,9,10,11,12,13,14,15,16,17,18,19,20,21,22,23,24,25]\n",
    "for i in l:\n",
    "    if (i%3)==0:\n",
    "        print(\"Number\",i,\"is Divisible by 3\")\n",
    "    else:\n",
    "        print(\"Number\",i,\" is not divisible by 3\")"
   ]
  },
  {
   "cell_type": "code",
   "execution_count": 32,
   "id": "24204d8e-bc4d-422b-bd60-8d279ee12c01",
   "metadata": {},
   "outputs": [],
   "source": [
    "list=[1,2,\"harikant\",3,\"shukla\"]"
   ]
  },
  {
   "cell_type": "code",
   "execution_count": 33,
   "id": "48bfe77f-8b81-452b-b927-a726052bf698",
   "metadata": {},
   "outputs": [
    {
     "data": {
      "text/plain": [
       "1"
      ]
     },
     "execution_count": 33,
     "metadata": {},
     "output_type": "execute_result"
    }
   ],
   "source": [
    "list[0]"
   ]
  },
  {
   "cell_type": "code",
   "execution_count": 34,
   "id": "66008ba7-aa80-47ef-adc8-83eefabe41fc",
   "metadata": {},
   "outputs": [],
   "source": [
    "list[0]=66     #can change the values of particular index because its a mutable collection of data"
   ]
  },
  {
   "cell_type": "code",
   "execution_count": 35,
   "id": "cd3a2b02-7969-44f4-b375-24652d4e0859",
   "metadata": {},
   "outputs": [
    {
     "data": {
      "text/plain": [
       "[66, 2, 'harikant', 3, 'shukla']"
      ]
     },
     "execution_count": 35,
     "metadata": {},
     "output_type": "execute_result"
    }
   ],
   "source": [
    "list"
   ]
  },
  {
   "cell_type": "code",
   "execution_count": 36,
   "id": "731c48d9-9648-49b5-bbc1-417931a84f13",
   "metadata": {},
   "outputs": [],
   "source": [
    "tuple=(5,6,\"india\",\"is\",\"my\",\"country\")"
   ]
  },
  {
   "cell_type": "code",
   "execution_count": 37,
   "id": "eadfc888-83f0-4c74-8acc-9a17eea50e1f",
   "metadata": {},
   "outputs": [
    {
     "data": {
      "text/plain": [
       "5"
      ]
     },
     "execution_count": 37,
     "metadata": {},
     "output_type": "execute_result"
    }
   ],
   "source": [
    "tuple[0]"
   ]
  },
  {
   "cell_type": "code",
   "execution_count": 39,
   "id": "9330701e-9f53-4995-9d12-fb0b47d71685",
   "metadata": {},
   "outputs": [
    {
     "ename": "TypeError",
     "evalue": "'tuple' object does not support item assignment",
     "output_type": "error",
     "traceback": [
      "\u001b[0;31m---------------------------------------------------------------------------\u001b[0m",
      "\u001b[0;31mTypeError\u001b[0m                                 Traceback (most recent call last)",
      "Cell \u001b[0;32mIn[39], line 1\u001b[0m\n\u001b[0;32m----> 1\u001b[0m \u001b[38;5;28;43mtuple\u001b[39;49m\u001b[43m[\u001b[49m\u001b[38;5;241;43m3\u001b[39;49m\u001b[43m]\u001b[49m\u001b[38;5;241m=\u001b[39m\u001b[38;5;124m\"\u001b[39m\u001b[38;5;124mare\u001b[39m\u001b[38;5;124m\"\u001b[39m\n",
      "\u001b[0;31mTypeError\u001b[0m: 'tuple' object does not support item assignment"
     ]
    }
   ],
   "source": [
    "tuple[3]=\"are\"  #will give an error beacause tuple is immutable so we can't make changes through indexing"
   ]
  },
  {
   "cell_type": "code",
   "execution_count": null,
   "id": "a74f6f0b-94f1-4d1b-bc83-282893edc8f9",
   "metadata": {},
   "outputs": [],
   "source": []
  }
 ],
 "metadata": {
  "kernelspec": {
   "display_name": "Python 3 (ipykernel)",
   "language": "python",
   "name": "python3"
  },
  "language_info": {
   "codemirror_mode": {
    "name": "ipython",
    "version": 3
   },
   "file_extension": ".py",
   "mimetype": "text/x-python",
   "name": "python",
   "nbconvert_exporter": "python",
   "pygments_lexer": "ipython3",
   "version": "3.10.8"
  }
 },
 "nbformat": 4,
 "nbformat_minor": 5
}
